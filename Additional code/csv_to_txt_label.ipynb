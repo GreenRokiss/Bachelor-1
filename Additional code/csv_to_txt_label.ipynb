{
 "cells": [
  {
   "cell_type": "code",
   "execution_count": 11,
   "metadata": {},
   "outputs": [],
   "source": [
    "import os\n",
    "import csv\n",
    "import cv2"
   ]
  },
  {
   "cell_type": "code",
   "execution_count": 2,
   "metadata": {},
   "outputs": [],
   "source": [
    "output_folder_img = '/home/j/without_mask/images'\n",
    "output_folder_labels = '/home/j/without_mask/labels'\n",
    "input_folder = '/home/j/without_mask/img/'\n",
    "csv_file = '/home/j/without_mask/list_bbox_celeba.csv'"
   ]
  },
  {
   "cell_type": "code",
   "execution_count": 29,
   "metadata": {},
   "outputs": [],
   "source": [
    "def normalization(width, height, data):\n",
    "    x = int(data[0]) + (int(data[2]) / 2)\n",
    "    y = int(data[1]) + (int(data[3]) / 2)\n",
    "    x_center_norm = x / width\n",
    "    y_center_norm = y / height\n",
    "    width_norm = int(data[2]) / width\n",
    "    height_norm = int(data[3]) / height\n",
    "        \n",
    "    return f'1, {x_center_norm}, {y_center_norm}, {width_norm}, {height_norm}'"
   ]
  },
  {
   "cell_type": "code",
   "execution_count": 32,
   "metadata": {},
   "outputs": [
    {
     "name": "stdout",
     "output_type": "stream",
     "text": [
      "218 178\n",
      "['95', '71', '226', '313']\n",
      "000001.txt\n",
      "1, 0.9541284403669725, 1.2780898876404494, 1.036697247706422, 1.7584269662921348\n",
      "218 178\n",
      "['72', '94', '221', '306']\n",
      "000002.txt\n",
      "1, 0.8371559633027523, 1.3876404494382022, 1.0137614678899083, 1.7191011235955056\n",
      "218 178\n",
      "['216', '59', '91', '126']\n",
      "000003.txt\n",
      "1, 1.1995412844036697, 0.6853932584269663, 0.41743119266055045, 0.7078651685393258\n"
     ]
    }
   ],
   "source": [
    "with open(csv_file, encoding='utf-8') as read_file:\n",
    "    csv_reader = csv.reader(read_file)\n",
    "    header = next(csv_reader)\n",
    "    for i, line in enumerate(csv_reader):\n",
    "        if i == 3:\n",
    "            break\n",
    "        filename_img = line[0]\n",
    "        img = cv2.imread(os.path.join(input_folder, filename_img))\n",
    "        img_width, img_height, rgb = img.shape\n",
    "        normalized_coords = normalization(img_width, img_height, line[1:])\n",
    "        filename_txt = os.path.splitext(filename_img)[0] + '.txt'      \n",
    "        \n",
    "#         with open(os.path.join(output_folder_labels, filename_txt), encoding='utf-8', mode='w') as write_file:\n",
    "#             write_file.write(normalized_coords)"
   ]
  },
  {
   "cell_type": "code",
   "execution_count": null,
   "metadata": {},
   "outputs": [],
   "source": []
  }
 ],
 "metadata": {
  "kernelspec": {
   "display_name": "ds",
   "language": "python",
   "name": "ds"
  },
  "language_info": {
   "codemirror_mode": {
    "name": "ipython",
    "version": 3
   },
   "file_extension": ".py",
   "mimetype": "text/x-python",
   "name": "python",
   "nbconvert_exporter": "python",
   "pygments_lexer": "ipython3",
   "version": "3.8.6"
  }
 },
 "nbformat": 4,
 "nbformat_minor": 4
}
