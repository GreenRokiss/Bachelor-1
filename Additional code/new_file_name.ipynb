{
 "cells": [
  {
   "cell_type": "code",
   "execution_count": 1,
   "metadata": {},
   "outputs": [],
   "source": [
    "import os\n",
    "import shutil"
   ]
  },
  {
   "cell_type": "code",
   "execution_count": 3,
   "metadata": {},
   "outputs": [],
   "source": [
    "labels_folder = '/home/j/correct_mask_ds/lables_old/' # folderis su labels/images /home/j/incorrect_mask_ds/labels\n",
    "new_labels_folder_name = '/home/j/correct_mask_ds/labels/'  # sukurt folderi\n",
    "images_folder = '/home/j/correct_mask_ds/images_old/' # folderis su labels/images /home/j/incorrect_mask_ds/labels\n",
    "new_images_folder_name = '/home/j/correct_mask_ds/images/'  # sukurt folderi\n",
    "new_file_name = 'correct_mask'\n",
    "\n",
    "for i, filename in enumerate(os.listdir(images_folder)):\n",
    "    source_images_file_name = os.path.join(images_folder, filename)\n",
    "    base_name, ext = os.path.splitext(filename)\n",
    "    count_flag = []\n",
    "    for label_file_name in os.listdir(labels_folder):\n",
    "        if base_name in label_file_name:\n",
    "            count_flag.append(label_file_name)\n",
    "    if len(count_flag) != 1:\n",
    "        print(filename)\n",
    "    else:\n",
    "        source_labels_file_name = os.path.join(labels_folder, count_flag[0])\n",
    "        \n",
    "        output_image_file_name = os.path.join(new_images_folder_name, f'{new_file_name}_{i}{ext}')\n",
    "        output_label_file_name = os.path.join(new_labels_folder_name, f'{new_file_name}_{i}.txt')\n",
    "        \n",
    "        shutil.copyfile(source_images_file_name, output_image_file_name)\n",
    "        shutil.copyfile(source_labels_file_name, output_label_file_name)"
   ]
  },
  {
   "cell_type": "code",
   "execution_count": null,
   "metadata": {},
   "outputs": [],
   "source": []
  }
 ],
 "metadata": {
  "kernelspec": {
   "display_name": "ds",
   "language": "python",
   "name": "ds"
  },
  "language_info": {
   "codemirror_mode": {
    "name": "ipython",
    "version": 3
   },
   "file_extension": ".py",
   "mimetype": "text/x-python",
   "name": "python",
   "nbconvert_exporter": "python",
   "pygments_lexer": "ipython3",
   "version": "3.8.6"
  }
 },
 "nbformat": 4,
 "nbformat_minor": 4
}
