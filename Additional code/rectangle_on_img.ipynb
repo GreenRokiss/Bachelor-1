{
 "cells": [
  {
   "cell_type": "code",
   "execution_count": 1,
   "metadata": {},
   "outputs": [],
   "source": [
    "import cv2"
   ]
  },
  {
   "cell_type": "code",
   "execution_count": 22,
   "metadata": {},
   "outputs": [
    {
     "data": {
      "text/plain": [
       "[['1',\n",
       "  '0.4803370786516854',\n",
       "  '0.6123853211009175',\n",
       "  '0.601123595505618',\n",
       "  '0.4908256880733945']]"
      ]
     },
     "execution_count": 22,
     "metadata": {},
     "output_type": "execute_result"
    }
   ],
   "source": [
    "filename = '/home/j/new_data/uf_labels/001202.txt'\n",
    "image = '/home/j/new_data/uf_images/001202.jpg'\n",
    "\n",
    "with open(filename, 'r') as df:\n",
    "    a = df.read()\n",
    "    a = [i.split(' ') for i in a.strip().split('\\n')]\n",
    "a"
   ]
  },
  {
   "cell_type": "code",
   "execution_count": 23,
   "metadata": {},
   "outputs": [],
   "source": [
    "img = cv2.imread(image)"
   ]
  },
  {
   "cell_type": "code",
   "execution_count": 24,
   "metadata": {},
   "outputs": [
    {
     "data": {
      "text/plain": [
       "(218, 178, 3)"
      ]
     },
     "execution_count": 24,
     "metadata": {},
     "output_type": "execute_result"
    }
   ],
   "source": [
    "img.shape"
   ]
  },
  {
   "cell_type": "code",
   "execution_count": 25,
   "metadata": {},
   "outputs": [],
   "source": [
    "h, w, c = img.shape"
   ]
  },
  {
   "cell_type": "code",
   "execution_count": 26,
   "metadata": {},
   "outputs": [],
   "source": [
    "def calc(cords,h_img,w_img):\n",
    "    c,x,y,w,h = [float(i) for i in cords]\n",
    "    x_center = x * w_img\n",
    "    y_center = y * h_img\n",
    "    rect_width = w * w_img\n",
    "    rect_height = h * h_img\n",
    "    return x_center, y_center, rect_width, rect_height"
   ]
  },
  {
   "cell_type": "code",
   "execution_count": 27,
   "metadata": {},
   "outputs": [
    {
     "data": {
      "text/plain": [
       "(85.5, 133.5, 107.0, 107.0)"
      ]
     },
     "execution_count": 27,
     "metadata": {},
     "output_type": "execute_result"
    }
   ],
   "source": [
    "calc(a[0],h,w)"
   ]
  },
  {
   "cell_type": "code",
   "execution_count": 28,
   "metadata": {},
   "outputs": [],
   "source": [
    "def rect_cords(x,y,w,h):\n",
    "    start_point = (int(x - w/2), int(y - h/2))\n",
    "    end_point = (int(x + w/2), int(y + h/2))\n",
    "    \n",
    "    return (start_point, end_point)"
   ]
  },
  {
   "cell_type": "code",
   "execution_count": 29,
   "metadata": {},
   "outputs": [],
   "source": [
    "new_img = img\n",
    "for n, i in enumerate(a):\n",
    "    x_center, y_center, rect_width, rect_height = calc(a[n],h,w)\n",
    "    rect = rect_cords(x_center, y_center, rect_width, rect_height)\n",
    "    new_img = cv2.rectangle(new_img, rect[0], rect[1], (255,0,0), 2)"
   ]
  },
  {
   "cell_type": "code",
   "execution_count": 31,
   "metadata": {},
   "outputs": [],
   "source": [
    "cv2.imshow('Image', new_img)\n",
    "\n",
    "cv2.waitKey(0)\n",
    "cv2.destroyAllWindows()"
   ]
  },
  {
   "cell_type": "code",
   "execution_count": null,
   "metadata": {},
   "outputs": [],
   "source": []
  },
  {
   "cell_type": "code",
   "execution_count": null,
   "metadata": {},
   "outputs": [],
   "source": []
  }
 ],
 "metadata": {
  "kernelspec": {
   "display_name": "ds",
   "language": "python",
   "name": "ds"
  },
  "language_info": {
   "codemirror_mode": {
    "name": "ipython",
    "version": 3
   },
   "file_extension": ".py",
   "mimetype": "text/x-python",
   "name": "python",
   "nbconvert_exporter": "python",
   "pygments_lexer": "ipython3",
   "version": "3.8.6"
  }
 },
 "nbformat": 4,
 "nbformat_minor": 4
}
