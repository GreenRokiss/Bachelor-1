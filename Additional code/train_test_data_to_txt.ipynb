{
 "cells": [
  {
   "cell_type": "code",
   "execution_count": 1,
   "metadata": {},
   "outputs": [],
   "source": [
    "import os"
   ]
  },
  {
   "cell_type": "code",
   "execution_count": 2,
   "metadata": {},
   "outputs": [],
   "source": [
    "correct_mask_txt = '/home/j/new_data/mf.txt'\n",
    "incorrect_mask_txt = '/home/j/new_data/umf.txt'\n",
    "without_mask_txt = '/home/j/new_data/uf.txt'\n",
    "\n",
    "correct_mask_images = '/home/j/new_data/mf_images/'\n",
    "incorrect_mask_images = '/home/j/new_data/umf_images/'\n",
    "without_mask_images = '/home/j/new_data/uf_images/'\n",
    "\n",
    "location = 'mask_data/mask_images/'"
   ]
  },
  {
   "cell_type": "code",
   "execution_count": 7,
   "metadata": {},
   "outputs": [],
   "source": [
    "filename_list = []\n",
    "for filename in os.listdir(without_mask_images):\n",
    "    new_filename = os.path.join(location, filename)\n",
    "    filename_list.append(new_filename)\n",
    "\n",
    "filename_list.sort()"
   ]
  },
  {
   "cell_type": "code",
   "execution_count": 8,
   "metadata": {},
   "outputs": [],
   "source": [
    "with open(without_mask_txt, encoding='utf-8', mode='w') as write_file:\n",
    "    write_file.write('\\n'.join(filename_list))"
   ]
  },
  {
   "cell_type": "code",
   "execution_count": null,
   "metadata": {},
   "outputs": [],
   "source": []
  }
 ],
 "metadata": {
  "kernelspec": {
   "display_name": "ds",
   "language": "python",
   "name": "ds"
  },
  "language_info": {
   "codemirror_mode": {
    "name": "ipython",
    "version": 3
   },
   "file_extension": ".py",
   "mimetype": "text/x-python",
   "name": "python",
   "nbconvert_exporter": "python",
   "pygments_lexer": "ipython3",
   "version": "3.8.6"
  }
 },
 "nbformat": 4,
 "nbformat_minor": 4
}
