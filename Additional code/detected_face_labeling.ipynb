{
 "cells": [
  {
   "cell_type": "code",
   "execution_count": 5,
   "metadata": {},
   "outputs": [],
   "source": [
    "import face_recognition\n",
    "from PIL import Image\n",
    "import os\n",
    "import shutil\n",
    "import cv2"
   ]
  },
  {
   "cell_type": "code",
   "execution_count": 6,
   "metadata": {},
   "outputs": [],
   "source": [
    "images_folder = '/home/j/new_data/uf'\n",
    "output_folder_img = '/home/j/new_data/uf_images'\n",
    "output_folder_labels = '/home/j/new_data/uf_labels'\n"
   ]
  },
  {
   "cell_type": "code",
   "execution_count": 7,
   "metadata": {},
   "outputs": [],
   "source": [
    "def normalization(width, height, x, y, w, h):\n",
    "    x_center_norm = x / width\n",
    "    y_center_norm = y / height\n",
    "    width_norm = w / width\n",
    "    height_norm = h / height\n",
    "        \n",
    "    return f'1 {x_center_norm} {y_center_norm} {width_norm} {height_norm}'"
   ]
  },
  {
   "cell_type": "code",
   "execution_count": 9,
   "metadata": {},
   "outputs": [],
   "source": [
    "for i, filename in enumerate(os.listdir(images_folder)):\n",
    "    source_images_filename = os.path.join(images_folder, filename)\n",
    "    \n",
    "    original_image = cv2.imread(source_images_filename)\n",
    "    original_image_height, original_image_width, rgb = original_image.shape\n",
    "    \n",
    "    image = face_recognition.load_image_file(source_images_filename)\n",
    "    face_locations = face_recognition.face_locations(image)\n",
    "    \n",
    "    for face_location in face_locations:\n",
    "        top, right, bottom, left = face_location\n",
    "        \n",
    "    width = right - left\n",
    "    height = bottom - top\n",
    "    x_center = left + (width / 2)\n",
    "    y_center = top + (height / 2)\n",
    "    \n",
    "    normalized_coords = normalization(original_image_width, original_image_height, x_center, y_center, width, height)\n",
    "    \n",
    "    filename_txt = os.path.splitext(source_images_filename.split('/')[-1])[0] + '.txt'\n",
    "\n",
    "    with open(os.path.join(output_folder_labels, filename_txt), encoding='utf-8', mode='w') as write_file:\n",
    "        write_file.write(normalized_coords)\n",
    "    \n",
    "    output_image_filename = os.path.join(output_folder_img, f'{filename}')\n",
    "    shutil.copyfile(source_images_filename, output_image_filename)"
   ]
  },
  {
   "cell_type": "code",
   "execution_count": null,
   "metadata": {},
   "outputs": [],
   "source": []
  }
 ],
 "metadata": {
  "kernelspec": {
   "display_name": "ds",
   "language": "python",
   "name": "ds"
  },
  "language_info": {
   "codemirror_mode": {
    "name": "ipython",
    "version": 3
   },
   "file_extension": ".py",
   "mimetype": "text/x-python",
   "name": "python",
   "nbconvert_exporter": "python",
   "pygments_lexer": "ipython3",
   "version": "3.8.6"
  }
 },
 "nbformat": 4,
 "nbformat_minor": 4
}
